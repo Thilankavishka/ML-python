{
 "cells": [
  {
   "cell_type": "code",
   "execution_count": 1,
   "id": "33d5c789-8c25-4e5a-be29-19090fb9f074",
   "metadata": {},
   "outputs": [],
   "source": [
    "def find_s_algorithm(examples):\n",
    "  \n",
    "    # Initialize the hypothesis as the first positive example\n",
    "    for attributes, label in examples:\n",
    "        if label == 'Yes':\n",
    "            hypothesis = attributes.copy()\n",
    "            break\n",
    "    else:\n",
    "        # No positive examples found\n",
    "        return None\n",
    "\n",
    "    # Update hypothesis for each positive example\n",
    "    for attributes, label in examples:\n",
    "        if label == 'Yes':\n",
    "            for i in range(len(hypothesis)):\n",
    "                if hypothesis[i] != attributes[i]:\n",
    "                    hypothesis[i] = '?'\n",
    "\n",
    "    return hypothesis"
   ]
  },
  {
   "cell_type": "code",
   "execution_count": 2,
   "id": "23a53f3f-993f-47ae-92af-409a8368e9b9",
   "metadata": {},
   "outputs": [
    {
     "name": "stdout",
     "output_type": "stream",
     "text": [
      "Final Hypothesis: ['Sunny', 'Warm', '?', 'Strong', '?', '?']\n"
     ]
    }
   ],
   "source": [
    "data = [\n",
    "    (['Sunny', 'Warm', 'Normal', 'Strong', 'Warm', 'Same'], 'Yes'),\n",
    "    (['Sunny', 'Warm', 'High', 'Strong', 'Warm', 'Same'], 'Yes'),\n",
    "    (['Rainy', 'Cold', 'High', 'Strong', 'Warm', 'Change'], 'No'),\n",
    "    (['Sunny', 'Warm', 'High', 'Strong', 'Cool', 'Change'], 'Yes')\n",
    "]\n",
    "\n",
    "hypothesis = find_s_algorithm(data)\n",
    "print(\"Final Hypothesis:\", hypothesis)\n"
   ]
  },
  {
   "cell_type": "code",
   "execution_count": 3,
   "id": "92ce709b-5612-4859-b80d-e02371b9dc65",
   "metadata": {},
   "outputs": [
    {
     "name": "stdout",
     "output_type": "stream",
     "text": [
      "Specific hypothesis S: ['Sunny', 'Warm', '?', 'Strong', '?', '?']\n",
      "General hypothesis G: ['Sunny', 'Warm', '?', '?', '?', '?']\n"
     ]
    }
   ],
   "source": [
    "def is_more_general(h1, h2):\n",
    "    \"\"\"Check if hypothesis h1 is more general than h2\"\"\"\n",
    "    for x, y in zip(h1, h2):\n",
    "        if x != '?' and (x != y):\n",
    "            return False\n",
    "    return True\n",
    "\n",
    "def candidate_elimination(examples, domains):\n",
    "    num_attributes = len(domains)\n",
    "    \n",
    "    # Initialize S (most specific) and G (most general)\n",
    "    S = ['∅'] * num_attributes\n",
    "    G = ['?'] * num_attributes\n",
    "    \n",
    "    for x, label in examples:\n",
    "        if label == 'Yes':\n",
    "            # Update S to be more general to include x\n",
    "            for i in range(num_attributes):\n",
    "                if S[i] == '∅':\n",
    "                    S[i] = x[i]\n",
    "                elif S[i] != x[i]:\n",
    "                    S[i] = '?'\n",
    "            # Remove from G any hypothesis inconsistent with x\n",
    "            for i in range(num_attributes):\n",
    "                if G[i] != '?' and G[i] != x[i]:\n",
    "                    G[i] = '?'\n",
    "\n",
    "        else:  # label == 'No'\n",
    "            for i in range(num_attributes):\n",
    "                # Specialize G where needed to exclude negative example\n",
    "                if G[i] == '?':\n",
    "                    if S[i] != x[i]:\n",
    "                        G[i] = S[i]\n",
    "\n",
    "    return S, G\n",
    "\n",
    "# Example usage:\n",
    "domains = [\n",
    "    ['Sunny', 'Rainy', 'Cloudy'],\n",
    "    ['Warm', 'Cold'],\n",
    "    ['Normal', 'High'],\n",
    "    ['Strong', 'Weak'],\n",
    "    ['Warm', 'Cool'],\n",
    "    ['Same', 'Change']\n",
    "]\n",
    "\n",
    "examples = [\n",
    "    (['Sunny', 'Warm', 'Normal', 'Strong', 'Warm', 'Same'], 'Yes'),\n",
    "    (['Sunny', 'Warm', 'High', 'Strong', 'Warm', 'Same'], 'Yes'),\n",
    "    (['Rainy', 'Cold', 'High', 'Strong', 'Warm', 'Change'], 'No'),\n",
    "    (['Sunny', 'Warm', 'High', 'Strong', 'Cool', 'Change'], 'Yes')\n",
    "]\n",
    "\n",
    "S, G = candidate_elimination(examples, domains)\n",
    "print(\"Specific hypothesis S:\", S)\n",
    "print(\"General hypothesis G:\", G)\n"
   ]
  },
  {
   "cell_type": "code",
   "execution_count": null,
   "id": "a8ad54ce-74ce-4ecd-9b78-150f680e13d4",
   "metadata": {},
   "outputs": [],
   "source": []
  }
 ],
 "metadata": {
  "kernelspec": {
   "display_name": "Python 3 (ipykernel)",
   "language": "python",
   "name": "python3"
  },
  "language_info": {
   "codemirror_mode": {
    "name": "ipython",
    "version": 3
   },
   "file_extension": ".py",
   "mimetype": "text/x-python",
   "name": "python",
   "nbconvert_exporter": "python",
   "pygments_lexer": "ipython3",
   "version": "3.13.7"
  }
 },
 "nbformat": 4,
 "nbformat_minor": 5
}
