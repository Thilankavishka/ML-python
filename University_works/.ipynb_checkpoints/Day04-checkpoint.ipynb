{
 "cells": [
  {
   "cell_type": "code",
   "execution_count": 27,
   "id": "95976ab4-59da-48ff-b38e-9fc3772c509e",
   "metadata": {},
   "outputs": [
    {
     "name": "stdout",
     "output_type": "stream",
     "text": [
      "11\n",
      "8\n",
      "8\n",
      "12.059376908803017\n",
      "--------------------------\n",
      "31.428571428571427\n",
      "10\n",
      "30\n",
      "19.518001458970662\n"
     ]
    }
   ],
   "source": [
    "import numpy as np \n",
    "x = np.array([2,4,9,6,8,8,40])\n",
    "\n",
    "from statistics import mean,mode,median,stdev\n",
    "\n",
    "print(mean(x))\n",
    "print(mode(x))\n",
    "print(median(x))\n",
    "print(np.std(x))\n",
    "\n",
    "print(\"--------------------------\")\n",
    "\n",
    "y = [10,20,30,40,50,60,10]\n",
    "print(mean(y))\n",
    "print(mode(y))\n",
    "print(median(y))\n",
    "print(stdev(y))"
   ]
  },
  {
   "cell_type": "code",
   "execution_count": 38,
   "id": "ede7a319-84e3-4670-a77e-8134245df7ec",
   "metadata": {},
   "outputs": [
    {
     "name": "stdout",
     "output_type": "stream",
     "text": [
      "mean: 89.76923076923077\n",
      "meidan: 87.0\n",
      "standsrd deviation: 9.258292301032677\n",
      "mode: [86]\n"
     ]
    }
   ],
   "source": [
    "from scipy import stats\n",
    "speed=[99,86,87,88,111,86,103,87,94,78,77,85,86]\n",
    "\n",
    "print(\"mean:\",np.mean(speed))\n",
    "print(\"meidan:\",np.median(speed))\n",
    "print(\"standsrd deviation:\",np.std(speed))\n",
    "print(\"mode:\",stats.mode(speed,keepdims = True)[0])\n",
    "\n"
   ]
  },
  {
   "cell_type": "code",
   "execution_count": 39,
   "id": "b7ebc12b-804e-4ace-8ec5-c120d11a24c2",
   "metadata": {},
   "outputs": [],
   "source": [
    "##  Meaning that most of the values are within the range of 37.85 from \n",
    "#the mean value, which is 77.4.\n",
    "##  As you can see, a higher standard deviation \n",
    "#indicates that the values are spread out over a wider range.\n",
    "##   The NumPy module has a method to calculate the standard deviation:"
   ]
  },
  {
   "cell_type": "code",
   "execution_count": 40,
   "id": "9810e0ae-efb7-42fe-a08b-18d3d19a5450",
   "metadata": {},
   "outputs": [
    {
     "name": "stdout",
     "output_type": "stream",
     "text": [
      "37.84501153334721\n"
     ]
    }
   ],
   "source": [
    "import numpy\n",
    "speed = [32,111,138,28,59,77,97]\n",
    "x = numpy.std(speed)\n",
    "print(x)"
   ]
  },
  {
   "cell_type": "code",
   "execution_count": 41,
   "id": "f680fc8d-325a-4d5a-ab28-5e311d429113",
   "metadata": {},
   "outputs": [],
   "source": [
    "## To calculate the variance you have to do as follows:\n",
    "## Find the mean:\n",
    "## (32+111+138+28+59+77+97) / 7 = 77.4\n",
    "## For each value: find the difference from the mean:\n",
    "\n"
   ]
  },
  {
   "cell_type": "code",
   "execution_count": 44,
   "id": "6c355484-b639-413f-bce3-6a434f2fd6e9",
   "metadata": {},
   "outputs": [
    {
     "name": "stdout",
     "output_type": "stream",
     "text": [
      "77.42857142857143\n"
     ]
    }
   ],
   "source": [
    "speed = [32,111,138,28,59,77,97]\n",
    "x = np.mean(speed)\n",
    "print(x)"
   ]
  },
  {
   "cell_type": "code",
   "execution_count": null,
   "id": "e5476922-72cd-4f09-a4d5-37a71c2dfdef",
   "metadata": {},
   "outputs": [],
   "source": [
    "for i in speed\n",
    "   "
   ]
  }
 ],
 "metadata": {
  "kernelspec": {
   "display_name": "Python 3 (ipykernel)",
   "language": "python",
   "name": "python3"
  },
  "language_info": {
   "codemirror_mode": {
    "name": "ipython",
    "version": 3
   },
   "file_extension": ".py",
   "mimetype": "text/x-python",
   "name": "python",
   "nbconvert_exporter": "python",
   "pygments_lexer": "ipython3",
   "version": "3.13.7"
  }
 },
 "nbformat": 4,
 "nbformat_minor": 5
}
